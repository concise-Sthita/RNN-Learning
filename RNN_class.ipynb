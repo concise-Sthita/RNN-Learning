{
 "cells": [
  {
   "cell_type": "code",
   "execution_count": 2,
   "metadata": {
    "colab": {
     "base_uri": "https://localhost:8080/"
    },
    "id": "8IgKnGeVEpXb",
    "outputId": "2234356c-1dcd-43df-9e22-019316f5961c"
   },
   "outputs": [
    {
     "name": "stdout",
     "output_type": "stream",
     "text": [
      "Epoch 1/10\n",
      "3/3 [==============================] - 3s 351ms/step - loss: 0.6922 - accuracy: 0.5375 - val_loss: 0.7015 - val_accuracy: 0.4500\n",
      "Epoch 2/10\n",
      "3/3 [==============================] - 0s 30ms/step - loss: 0.6872 - accuracy: 0.5375 - val_loss: 0.7007 - val_accuracy: 0.4500\n",
      "Epoch 3/10\n",
      "3/3 [==============================] - 0s 30ms/step - loss: 0.6852 - accuracy: 0.5375 - val_loss: 0.6999 - val_accuracy: 0.4500\n",
      "Epoch 4/10\n",
      "3/3 [==============================] - 0s 30ms/step - loss: 0.6835 - accuracy: 0.5375 - val_loss: 0.7012 - val_accuracy: 0.4500\n",
      "Epoch 5/10\n",
      "3/3 [==============================] - 0s 21ms/step - loss: 0.6817 - accuracy: 0.5375 - val_loss: 0.7028 - val_accuracy: 0.4500\n",
      "Epoch 6/10\n",
      "3/3 [==============================] - 0s 31ms/step - loss: 0.6808 - accuracy: 0.5375 - val_loss: 0.7039 - val_accuracy: 0.4500\n",
      "Epoch 7/10\n",
      "3/3 [==============================] - 0s 29ms/step - loss: 0.6790 - accuracy: 0.5375 - val_loss: 0.7032 - val_accuracy: 0.4500\n",
      "Epoch 8/10\n",
      "3/3 [==============================] - 0s 21ms/step - loss: 0.6778 - accuracy: 0.5375 - val_loss: 0.7020 - val_accuracy: 0.4500\n",
      "Epoch 9/10\n",
      "3/3 [==============================] - 0s 21ms/step - loss: 0.6767 - accuracy: 0.5375 - val_loss: 0.7007 - val_accuracy: 0.4500\n",
      "Epoch 10/10\n",
      "3/3 [==============================] - 0s 31ms/step - loss: 0.6750 - accuracy: 0.5375 - val_loss: 0.7002 - val_accuracy: 0.4500\n",
      "1/1 [==============================] - 0s 34ms/step - loss: 0.7002 - accuracy: 0.4500\n",
      "Accuracy: 0.44999998807907104\n"
     ]
    }
   ],
   "source": [
    "import numpy as np\n",
    "from sklearn.model_selection import train_test_split\n",
    "from sklearn.preprocessing import LabelEncoder\n",
    "from tensorflow.keras.models import Sequential\n",
    "from tensorflow.keras.layers import SimpleRNN, Dense\n",
    "\n",
    "# Generate random sample data\n",
    "np.random.seed(42)\n",
    "X = np.random.rand(100, 10)  # 100 samples, 10 features\n",
    "y = np.random.choice(['A', 'B'], 100)  # Random binary labels (A or B)\n",
    "\n",
    "# Encode labels\n",
    "label_encoder = LabelEncoder()\n",
    "y_encoded = label_encoder.fit_transform(y)\n",
    "\n",
    "# Split the data into training and testing sets\n",
    "X_train, X_test, y_train, y_test = train_test_split(X, y_encoded, test_size=0.2, random_state=42)\n",
    "\n",
    "# Define the RNN model\n",
    "model = Sequential([\n",
    "    SimpleRNN(units=50, input_shape=(X_train.shape[1], 1), activation='relu'),\n",
    "    Dense(units=1, activation='sigmoid')  # Binary classification output\n",
    "])\n",
    "\n",
    "# Compile the model\n",
    "model.compile(optimizer='adam', loss='binary_crossentropy', metrics=['accuracy'])\n",
    "\n",
    "# Reshape input data for RNN\n",
    "X_train_reshaped = X_train.reshape((X_train.shape[0], X_train.shape[1], 1))\n",
    "X_test_reshaped = X_test.reshape((X_test.shape[0], X_test.shape[1], 1))\n",
    "\n",
    "# Train the model\n",
    "model.fit(X_train_reshaped, y_train, epochs=10, batch_size=32, validation_data=(X_test_reshaped, y_test))\n",
    "\n",
    "# Evaluate the model\n",
    "_, accuracy = model.evaluate(X_test_reshaped, y_test)\n",
    "print(\"Accuracy:\", accuracy)\n"
   ]
  }
 ],
 "metadata": {
  "colab": {
   "provenance": []
  },
  "kernelspec": {
   "display_name": "Python 3 (ipykernel)",
   "language": "python",
   "name": "python3"
  },
  "language_info": {
   "codemirror_mode": {
    "name": "ipython",
    "version": 3
   },
   "file_extension": ".py",
   "mimetype": "text/x-python",
   "name": "python",
   "nbconvert_exporter": "python",
   "pygments_lexer": "ipython3",
   "version": "3.11.5"
  }
 },
 "nbformat": 4,
 "nbformat_minor": 4
}
